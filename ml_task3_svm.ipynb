{
 "cells": [
  {
   "cell_type": "code",
   "execution_count": 5,
   "id": "dec05911-f329-4898-94fb-e36d7e95393e",
   "metadata": {},
   "outputs": [],
   "source": [
    "from sklearn.model_selection import train_test_split\n",
    "import matplotlib.pyplot as plt\n",
    "from sklearn.preprocessing import StandardScaler\n",
    "import pandas as pd\n",
    "import numpy as np\n",
    "import math\n",
    "import seaborn as sns"
   ]
  },
  {
   "cell_type": "code",
   "execution_count": 3,
   "id": "f04ab008-0961-4d13-8c5f-9af6912fb3e1",
   "metadata": {},
   "outputs": [],
   "source": [
    "# Artificial dataset\n",
    "\n",
    "np.random.seed(seed=42)\n",
    "n_samples = 500\n",
    "f0 = [-1, 2]\n",
    "f1 = [2, -1]\n",
    "cov = [[1.0,0.8], [0.8, 1.0]]\n",
    "f0 = np.random.multivariate_normal(f0, cov, n_samples // 2)\n",
    "f1 = np.random.multivariate_normal(f1, cov, n_samples // 2)\n",
    "X_set1 = np.concatenate([f0, f1])\n",
    "y_set1 = np.concatenate([\n",
    "    np.full(n_samples // 2, 1),\n",
    "    np.full(n_samples // 2, -1)\n",
    "])"
   ]
  },
  {
   "cell_type": "code",
   "execution_count": 4,
   "id": "d6e975c2-eb05-411f-a895-84f1771d53bb",
   "metadata": {},
   "outputs": [
    {
     "name": "stdout",
     "output_type": "stream",
     "text": [
      "Train dataset -- Rows: 400, Columns: 2\n",
      "Test dataset -- Rows: 100, Columns: 2\n"
     ]
    }
   ],
   "source": [
    "\n",
    "X_set1_train, X_set1_val, y_set1_train, y_set1_val = train_test_split(X_set1, y_set1, train_size=0.8)\n",
    "print(\"Train dataset -- Rows: {}, Columns: {}\".format(X_set1_train.shape[0], X_set1_train.shape[1]))\n",
    "print(\"Test dataset -- Rows: {}, Columns: {}\".format(X_set1_val.shape[0], X_set1_val.shape[1]))"
   ]
  },
  {
   "cell_type": "code",
   "execution_count": 6,
   "id": "daf5ada0-6b24-442c-8586-98615a59130c",
   "metadata": {},
   "outputs": [],
   "source": [
    "sc = StandardScaler()\n",
    "X_set1_train = sc.fit_transform(X_set1_train)\n",
    "X_set1_val = sc.fit_transform(X_set1_val)"
   ]
  },
  {
   "cell_type": "code",
   "execution_count": 7,
   "id": "8193fd3d-f648-4cf9-9e31-2586ce466720",
   "metadata": {},
   "outputs": [],
   "source": [
    "#Kernel Function (Linear)\n",
    "\n",
    "def _kernel_function(X1, X2, gamma=1, theta=0, d=1):\n",
    "        \"\"\"\n",
    "        Compute a linear kernal function\n",
    "        Parameters\n",
    "        ----------\n",
    "        X : The following forms of ndarray, shape (n_samples, n_features)\n",
    "          First feature vector\n",
    "\n",
    "        X : The following forms of ndarray, shape (n_samples, n_features)\n",
    "          Second feature vector\n",
    "\n",
    "        Returns\n",
    "        -------\n",
    "          The following form of ndarray, shape (n_samples, 1)\n",
    "          Estimated result kernel function\n",
    "\n",
    "        \"\"\"\n",
    "        \n",
    "        kernel = (gamma*np.dot(X1, X2.T) + theta)**d \n",
    "\n",
    "        return kernel"
   ]
  },
  {
   "cell_type": "code",
   "execution_count": 8,
   "id": "5055aaab-2fb1-4db3-990b-53fdf22dd2c4",
   "metadata": {},
   "outputs": [
    {
     "name": "stdout",
     "output_type": "stream",
     "text": [
      "1.383557919267866\n"
     ]
    }
   ],
   "source": [
    "\n",
    "kernel_temp = _kernel_function(np.array(X_set1_train)[0], np.array(X_set1_train)[1])\n",
    "print(kernel_temp)"
   ]
  },
  {
   "cell_type": "code",
   "execution_count": 9,
   "id": "a277fcb3-243b-48b6-bb69-681e4c462de2",
   "metadata": {},
   "outputs": [],
   "source": [
    "#Larange Steepest Descent\n",
    "def _lambda_steepest_descent(X, y, lr):\n",
    "        \"\"\"\n",
    "        Calculate the larange multiplier using its hypothesis function\n",
    "        Parameters\n",
    "        ----------\n",
    "        X: The following form of ndarray, shape (n_samples, n_features)\n",
    "            Features of training data\n",
    "        \n",
    "        y: The following form of ndarray, shape(n_samples,)\n",
    "            Label for value of training data\n",
    "        \n",
    "        Returns\n",
    "        -------\n",
    "        lambda_val: The following form of ndarray, shape (n_samples, 1)\n",
    "            Estimated larange multiplier value\n",
    "        \"\"\"\n",
    "        lambda_val = np.random.randn(len(X))\n",
    "\n",
    "        for i in range(len(X)):\n",
    "            update_val = np.dot(lambda_val * y[i] * y.T, _kernel_function(X[i], X))\n",
    "            lambda_val[i] += lr * (1 - update_val)\n",
    "            lambda_val = np.where(lambda_val >=0, lambda_val, 0)\n",
    "\n",
    "        return lambda_val"
   ]
  },
  {
   "cell_type": "code",
   "execution_count": 10,
   "id": "2db54431-41b7-4498-a33e-b04fcd5c1107",
   "metadata": {},
   "outputs": [
    {
     "name": "stdout",
     "output_type": "stream",
     "text": [
      "The lambda value greater than 0: \n",
      " [1.49276642e+00 7.50698061e-01 2.72247092e-02 3.89944324e-02\n",
      " 4.34979167e-01 1.19600837e-01 1.46031977e+00 2.31433655e-01\n",
      " 8.54569730e-01 5.68106349e-01 1.95977067e-01 1.13408373e-03\n",
      " 1.26707040e-01 7.57576974e-01 9.51932738e-02 3.32596303e-01\n",
      " 6.85510339e-01 6.06296055e-02 3.25877058e-01 6.54516801e-01\n",
      " 1.01664387e+00 3.48934612e-01 1.78105929e-01 1.50387097e-01\n",
      " 7.49754795e-02 2.92323674e-01 1.44598348e-01 9.00162631e-01\n",
      " 1.12226583e+00 1.20438075e-01 4.92464456e-02 3.01995288e-01\n",
      " 1.05552572e+00 4.30602191e-01 4.74428572e-01 1.29177599e+00\n",
      " 5.76329939e-01 7.03550627e-01 5.33997283e-01 8.54540965e-03\n",
      " 6.55487519e-01 4.91852912e-01 8.12932651e-01 2.58338553e-01\n",
      " 9.42408434e-01 2.88298476e-01 6.68559126e-02 1.12150239e+00\n",
      " 8.23563358e-01 6.82592656e-01 6.11443314e-01 1.46683813e+00\n",
      " 3.24867576e-01 8.76915262e-01 4.85790727e-01 7.34632993e-01\n",
      " 8.65795752e-02]\n"
     ]
    }
   ],
   "source": [
    "lambda_test = _lambda_steepest_descent(X_set1_train, y_set1_train, 0.01)\n",
    "print(\"The lambda value greater than 0: \\n {}\".format(lambda_test[lambda_test > 0]))"
   ]
  },
  {
   "cell_type": "code",
   "execution_count": 11,
   "id": "3133de18-d3f3-42cd-8d3d-3252018f0d38",
   "metadata": {},
   "outputs": [],
   "source": [
    "#Support Vector Determination\n",
    "\n",
    "def get_support_vector(X, Y, lambda_val, threshold):\n",
    "        \n",
    "        \"\"\"\n",
    "        Get the support vectors that satisfy with the threshhold\n",
    "\n",
    "        \"\"\"\n",
    "        index_support_vectors = np.where(lambda_val > threshold)\n",
    "        lambda_sv = lambda_val[lambda_val > threshold]\n",
    "        X_sv = X[lambda_val > threshold]\n",
    "        Y_sv = Y[lambda_val > threshold]\n",
    "        n_support_vectors = len(X_sv)\n",
    "\n",
    "        return X_sv, Y_sv, lambda_sv"
   ]
  },
  {
   "cell_type": "code",
   "execution_count": 16,
   "id": "716b252f-e503-4b86-af1b-61bd6f51c9d4",
   "metadata": {},
   "outputs": [
    {
     "name": "stdout",
     "output_type": "stream",
     "text": [
      "Support vector X: [ 1.57 -0.58] -- Suport vector label: -1 -- Suport vector lambda: 1.49276642140783\n",
      "Support vector X: [-0.74  0.68] -- Suport vector label: 1 -- Suport vector lambda: 0.7506980610639018\n",
      "Support vector X: [-1.42 -0.27] -- Suport vector label: 1 -- Suport vector lambda: 0.02722470917409181\n",
      "Support vector X: [ 0.74 -1.08] -- Suport vector label: -1 -- Suport vector lambda: 0.038994432354496844\n",
      "Support vector X: [ 1.02 -0.39] -- Suport vector label: -1 -- Suport vector lambda: 0.43497916720285\n",
      "Support vector X: [ 0.56 -0.5 ] -- Suport vector label: -1 -- Suport vector lambda: 0.11960083685741507\n",
      "Support vector X: [ 0.15 -1.05] -- Suport vector label: -1 -- Suport vector lambda: 1.460319772531428\n",
      "Support vector X: [-0.35  0.79] -- Suport vector label: 1 -- Suport vector lambda: 0.23143365466528376\n",
      "Support vector X: [ 1.07 -0.47] -- Suport vector label: -1 -- Suport vector lambda: 0.8545697304535456\n",
      "Support vector X: [ 1.18 -0.88] -- Suport vector label: -1 -- Suport vector lambda: 0.5681063488760336\n",
      "Support vector X: [-1.39  0.55] -- Suport vector label: 1 -- Suport vector lambda: 0.195977067219397\n",
      "Support vector X: [ 0.33 -1.19] -- Suport vector label: -1 -- Suport vector lambda: 0.0011340837341948795\n",
      "Support vector X: [-0.8   1.11] -- Suport vector label: 1 -- Suport vector lambda: 0.12670704000170963\n",
      "Support vector X: [0.16 1.11] -- Suport vector label: 1 -- Suport vector lambda: 0.7575769737447919\n",
      "Support vector X: [1.43 0.02] -- Suport vector label: -1 -- Suport vector lambda: 0.09519327380108411\n",
      "Support vector X: [0.89 0.14] -- Suport vector label: -1 -- Suport vector lambda: 0.33259630318273375\n",
      "Support vector X: [ 0.54 -0.79] -- Suport vector label: -1 -- Suport vector lambda: 0.6855103388801792\n",
      "Support vector X: [ 0.37 -1.39] -- Suport vector label: -1 -- Suport vector lambda: 0.0606296055205362\n",
      "Support vector X: [-0.2   1.26] -- Suport vector label: 1 -- Suport vector lambda: 0.3258770584478551\n",
      "Support vector X: [ 0.71 -1.04] -- Suport vector label: -1 -- Suport vector lambda: 0.6545168005799195\n",
      "Support vector X: [ 0.3  -0.72] -- Suport vector label: -1 -- Suport vector lambda: 1.0166438733092802\n",
      "Support vector X: [1.63 0.15] -- Suport vector label: -1 -- Suport vector lambda: 0.34893461159494266\n",
      "Support vector X: [-0.58  0.72] -- Suport vector label: 1 -- Suport vector lambda: 0.1781059292928655\n",
      "Support vector X: [ 1.18 -1.08] -- Suport vector label: -1 -- Suport vector lambda: 0.15038709716240217\n",
      "Support vector X: [-0.32 -1.61] -- Suport vector label: -1 -- Suport vector lambda: 0.0749754794639802\n",
      "Support vector X: [ 0.83 -0.76] -- Suport vector label: -1 -- Suport vector lambda: 0.2923236743243339\n",
      "Support vector X: [ 1.08 -0.47] -- Suport vector label: -1 -- Suport vector lambda: 0.1445983480016848\n",
      "Support vector X: [-2.63 -0.59] -- Suport vector label: 1 -- Suport vector lambda: 0.900162630551283\n",
      "Support vector X: [-0.65  0.61] -- Suport vector label: 1 -- Suport vector lambda: 1.1222658281202262\n",
      "Support vector X: [-0.73  0.7 ] -- Suport vector label: 1 -- Suport vector lambda: 0.12043807479440216\n",
      "Support vector X: [-1.32  0.55] -- Suport vector label: 1 -- Suport vector lambda: 0.04924644563699743\n",
      "Support vector X: [-0.15  1.58] -- Suport vector label: 1 -- Suport vector lambda: 0.3019952875159384\n",
      "Support vector X: [ 0.71 -0.88] -- Suport vector label: -1 -- Suport vector lambda: 1.0555257229605386\n",
      "Support vector X: [ 0.82 -1.03] -- Suport vector label: -1 -- Suport vector lambda: 0.430602191344721\n",
      "Support vector X: [-1.4   0.74] -- Suport vector label: 1 -- Suport vector lambda: 0.474428571668872\n",
      "Support vector X: [-0.32  1.32] -- Suport vector label: 1 -- Suport vector lambda: 1.291775993868507\n",
      "Support vector X: [-0.59  0.65] -- Suport vector label: 1 -- Suport vector lambda: 0.576329939441055\n",
      "Support vector X: [ 1.47 -0.71] -- Suport vector label: -1 -- Suport vector lambda: 0.7035506272909257\n",
      "Support vector X: [ 0.88 -0.96] -- Suport vector label: -1 -- Suport vector lambda: 0.5339972825777467\n",
      "Support vector X: [-1.28  0.08] -- Suport vector label: 1 -- Suport vector lambda: 0.008545409645922764\n",
      "Support vector X: [ 0.66 -0.76] -- Suport vector label: -1 -- Suport vector lambda: 0.6554875194121978\n",
      "Support vector X: [-1.01  0.63] -- Suport vector label: 1 -- Suport vector lambda: 0.4918529116258087\n",
      "Support vector X: [-0.66  1.3 ] -- Suport vector label: 1 -- Suport vector lambda: 0.8129326512185953\n",
      "Support vector X: [-1.23  0.73] -- Suport vector label: 1 -- Suport vector lambda: 0.2583385530738428\n",
      "Support vector X: [ 0.61 -1.39] -- Suport vector label: -1 -- Suport vector lambda: 0.9424084342274068\n",
      "Support vector X: [1.43 0.01] -- Suport vector label: -1 -- Suport vector lambda: 0.2882984764677662\n",
      "Support vector X: [-1.82 -0.43] -- Suport vector label: 1 -- Suport vector lambda: 0.06685591261413476\n",
      "Support vector X: [ 0.54 -1.02] -- Suport vector label: -1 -- Suport vector lambda: 1.1215023878633228\n",
      "Support vector X: [-0.7   0.85] -- Suport vector label: 1 -- Suport vector lambda: 0.8235633579922097\n",
      "Support vector X: [ 0.37 -1.56] -- Suport vector label: -1 -- Suport vector lambda: 0.6825926562458997\n",
      "Support vector X: [-0.63  0.67] -- Suport vector label: 1 -- Suport vector lambda: 0.6114433139266505\n",
      "Support vector X: [-0.52 -2.18] -- Suport vector label: -1 -- Suport vector lambda: 1.4668381269143078\n",
      "Support vector X: [-0.76  1.02] -- Suport vector label: 1 -- Suport vector lambda: 0.3248675757966765\n",
      "Support vector X: [-0.34  1.43] -- Suport vector label: 1 -- Suport vector lambda: 0.8769152618995322\n",
      "Support vector X: [ 0.72 -1.09] -- Suport vector label: -1 -- Suport vector lambda: 0.4857907269398527\n",
      "Support vector X: [ 0.5  -1.12] -- Suport vector label: -1 -- Suport vector lambda: 0.7346329933565412\n",
      "Support vector X: [1.52 0.37] -- Suport vector label: -1 -- Suport vector lambda: 0.08657957516602044\n"
     ]
    }
   ],
   "source": [
    "\n",
    "X_sv_test, Y_sv_test, lambda_sv_test = get_support_vector(X_set1_train, y_set1_train, lambda_test, 1e-3)\n",
    "for i in range (X_sv_test.shape[0]):\n",
    "  print(\"Support vector X: {} -- Suport vector label: {} -- Suport vector lambda: {}\".format(np.around(X_sv_test[i],2), Y_sv_test[i], lambda_sv_test[i]))\n",
    "     "
   ]
  },
  {
   "cell_type": "code",
   "execution_count": 17,
   "id": "be06ff89-724d-4acb-8069-8bebe5f330cc",
   "metadata": {},
   "outputs": [
    {
     "name": "stdout",
     "output_type": "stream",
     "text": [
      "Number of support vector: 57\n"
     ]
    }
   ],
   "source": [
    "\n",
    "# Number of support vector\n",
    "print(\"Number of support vector: {}\".format(len(X_sv_test)))"
   ]
  },
  {
   "cell_type": "code",
   "execution_count": 18,
   "id": "6083948b-efee-45c8-9cd4-5675d3cb5b47",
   "metadata": {},
   "outputs": [
    {
     "name": "stdout",
     "output_type": "stream",
     "text": [
      "Number of support vector: 57\n",
      "Number of support vector: 57\n",
      "Number of support vector: 57\n",
      "Number of support vector: 55\n",
      "Number of support vector: 52\n",
      "Number of support vector: 47\n",
      "Number of support vector: 8\n",
      "Number of support vector: 0\n",
      "Number of support vector: 0\n"
     ]
    }
   ],
   "source": [
    "# Threshold parameters\n",
    "threshold = [1e-5, 1e-4, 1e-3, 1e-2, 0.05, 0.1, 1, 5, 10]\n",
    "\n",
    "for i, margin_threshold in enumerate(threshold):\n",
    "    X_sv_test, Y_sv_test, lambda_sv_test = get_support_vector(X_set1_train, y_set1_train, lambda_test, margin_threshold)\n",
    "    # Number of support vector\n",
    "    print(\"Number of support vector: {}\".format(len(X_sv_test)))\n"
   ]
  },
  {
   "cell_type": "code",
   "execution_count": 36,
   "id": "ce676458-ecfc-464c-82ec-693a32a300cc",
   "metadata": {},
   "outputs": [],
   "source": [
    "\n",
    "def predict(X, lambda_sv, X_sv, Y_sv):\n",
    "        \"\"\"\n",
    "        Estimate the label using the SVM classifier.\n",
    "        Parameters\n",
    "        ----------\n",
    "        X : 次の形のndarray, shape (n_samples, n_features)\n",
    "            sample\n",
    "        Returns\n",
    "        -------\n",
    "            The following form of ndarray, shape (n_samples, 1)\n",
    "            Estimated result by SVM classifier\n",
    "        \"\"\"\n",
    "        y_pred = 0\n",
    "\n",
    "        y_pred = np.dot(lambda_sv * Y_sv, _kernel_function(X, X_sv).T)\n",
    "\n",
    "        final_pred = np.where(y_pred >= 0, 1, -1)\n",
    "\n",
    "        return final_pred"
   ]
  },
  {
   "cell_type": "code",
   "execution_count": 42,
   "id": "5216b7ea-75ff-4800-b230-10d15136d8b1",
   "metadata": {},
   "outputs": [
    {
     "name": "stdout",
     "output_type": "stream",
     "text": [
      "The predicted labels: [1 1 1 1 1 1 1 1 1 1 1 1 1 1 1 1 1 1 1 1 1 1 1 1 1 1 1 1 1 1 1 1 1 1 1 1 1\n",
      " 1 1 1 1 1 1 1 1 1 1 1 1 1 1 1 1 1 1 1 1 1 1 1 1 1 1 1 1 1 1 1 1 1 1 1 1 1\n",
      " 1 1 1 1 1 1 1 1 1 1 1 1 1 1 1 1 1 1 1 1 1 1 1 1 1 1]\n"
     ]
    }
   ],
   "source": [
    "y_test_pred = predict(X_set1_val, lambda_sv_test, X_sv_test, Y_sv_test)\n",
    "print(\"The predicted labels: {}\".format(y_test_pred))"
   ]
  },
  {
   "cell_type": "code",
   "execution_count": 43,
   "id": "9a0de0f5-14ec-48e2-b6ba-32ea32c52efa",
   "metadata": {},
   "outputs": [
    {
     "name": "stdout",
     "output_type": "stream",
     "text": [
      "Accuracy: 0.5\n"
     ]
    }
   ],
   "source": [
    "from sklearn.metrics import accuracy_score\n",
    "print(\"Accuracy: {}\".format(accuracy_score(y_set1_val, y_test_pred)))"
   ]
  },
  {
   "cell_type": "code",
   "execution_count": 44,
   "id": "35d3369e-a41d-4ca0-89a7-2d18e0ec6a24",
   "metadata": {},
   "outputs": [],
   "source": [
    "#SVM Class\n",
    "\n",
    "\n",
    "class ScratchSVMClassifier():\n",
    "    \"\"\"\n",
    "    Scratch implementation of SVM classifier\n",
    "    Parameters\n",
    "    ----------\n",
    "    num_iter : int\n",
    "      Number of iterations\n",
    "    lr : float\n",
    "      Learning rate\n",
    "    kernel : str\n",
    "      Kernel type. Linear kernel (linear) or polynomial kernel (polly)\n",
    "    threshold : float\n",
    "      Threshold for choosing a support vector\n",
    "    verbose : bool\n",
    "      True to output the learning process\n",
    "    Attributes\n",
    "    ----------\n",
    "    self.n_support_vectors : int\n",
    "      Number of support vectors\n",
    "    self.index_support_vectors : The following form of ndarray, shape (n_support_vectors,)\n",
    "      Support vector index\n",
    "    self.X_sv :  The following forms of ndarray, shape (n_support_vectors, n_features)\n",
    "      Support vector features\n",
    "    self.lambda_sv :  The following forms of ndarray, shape (n_support_vectors, 1)\n",
    "      Support vector undetermined multiplier\n",
    "    self.y_sv :  The following forms of ndarray, shape (n_support_vectors, 1)\n",
    "      Support vector label\n",
    "    \"\"\"\n",
    "    def __init__(self, num_iter, lr, kernel='linear', threshold=1e-5, gamma=1, d=1, theta=0, verbose=False):\n",
    "        # Record hyperparameters as attributes\n",
    "        self.iter = num_iter\n",
    "        self.lr = lr  \n",
    "        self.kernel = kernel\n",
    "        self.threshold = threshold\n",
    "        self.verbose = verbose\n",
    "        self.gamma = gamma\n",
    "        self.theta = theta\n",
    "        self.d = d\n",
    "\n",
    "    def fit(self, X, y, X_val=None, y_val=None):\n",
    "        \"\"\"\n",
    "        Learn the SVM classifier. If verification data is input, the accuracy for it is also calculated for each iteration.\n",
    "        Parameters\n",
    "        ----------\n",
    "        X : 次の形のndarray, shape (n_samples, n_features)\n",
    "            Features of training data\n",
    "        y : The following form of ndarray, shape (n_samples,)\n",
    "            Correct answer value of training data\n",
    "        X_val : 次の形のndarray, shape (n_samples, n_features)\n",
    "            Features of verification data\n",
    "        y_val : The following form of ndarray, shape (n_samples,)\n",
    "            Correct value of verification data\n",
    "        \"\"\"\n",
    "        self.X = X\n",
    "        self.Y = y\n",
    "\n",
    "        m, n = X.shape\n",
    "        self.lambda_val = np.random.rand(m)\n",
    "\n",
    "        for i in range(self.iter):\n",
    "            final_lambda = self._lambda_steepest_descent(X, y)\n",
    "            if verbose:\n",
    "              if (i % 10 == 0):\n",
    "                print(\"Iteration {}\".format(i))\n",
    "            \n",
    "\n",
    "        self.get_support_vector()\n",
    "\n",
    "      \n",
    "    def _lambda_steepest_descent(self, X, y):\n",
    "        \"\"\"\n",
    "        Calculate the larange multiplier using its hypothesis function\n",
    "        Parameters\n",
    "        ----------\n",
    "        X: The following form of ndarray, shape (n_samples, n_features)\n",
    "            Features of training data\n",
    "        \n",
    "        y: The following form of ndarray, shape(n_samples,)\n",
    "            Label for value of training data\n",
    "        \n",
    "        Returns\n",
    "        -------\n",
    "        lambda_val: The following form of ndarray, shape (n_samples, 1)\n",
    "            Estimated larange multiplier value\n",
    "        \"\"\"\n",
    "  \n",
    "        for i in range(len(X)):\n",
    "            update_val = np.dot(self.lambda_val * y[i] * y.T, self._kernel_function(X[i], X))\n",
    "            self.lambda_val[i] += self.lr * (1 - update_val)\n",
    "            self.lambda_val = np.where(self.lambda_val >=0, self.lambda_val, 0)\n",
    "\n",
    "        return self.lambda_val\n",
    "        \n",
    "\n",
    "    def predict(self, X):\n",
    "        \"\"\"\n",
    "        Estimate the label using the SVM classifier.\n",
    "        Parameters\n",
    "        ----------\n",
    "        X : 次の形のndarray, shape (n_samples, n_features)\n",
    "            sample\n",
    "        Returns\n",
    "        -------\n",
    "            The following form of ndarray, shape (n_samples, 1)\n",
    "            Estimated result by SVM classifier\n",
    "        \"\"\"\n",
    "        y_pred = np.dot(self.lambda_sv * self.Y_sv, self._kernel_function(X, self.X_sv).T)\n",
    "\n",
    "        final_pred = np.where(y_pred >= 0, 1, -1)\n",
    "\n",
    "        return final_pred\n",
    "\n",
    "    def get_support_vector(self):\n",
    "        \n",
    "        \"\"\"\n",
    "        Get the support vectors that satisfy with the threshhold\n",
    "\n",
    "        \"\"\"\n",
    "        \n",
    "        self.index_support_vectors = np.where(self.lambda_val > self.threshold)\n",
    "        self.lambda_sv = self.lambda_val[self.lambda_val > self.threshold]\n",
    "        self.X_sv = self.X[self.lambda_val > self.threshold]\n",
    "        self.Y_sv = self.Y[self.lambda_val > self.threshold]\n",
    "        self.n_support_vectors = len(self.X_sv)\n",
    "\n",
    "        return self.X_sv, self.Y_sv, self.lambda_sv\n",
    "        \n",
    "\n",
    "    def _kernel_function(self, X1, X2):\n",
    "        \"\"\"\n",
    "        Compute a linear kernal function\n",
    "        Parameters\n",
    "        ----------\n",
    "        X : The following forms of ndarray, shape (n_samples, n_features)\n",
    "          First feature vector\n",
    "\n",
    "        X : The following forms of ndarray, shape (n_samples, n_features)\n",
    "          Second feature vector\n",
    "\n",
    "        Returns\n",
    "        -------\n",
    "          The following form of ndarray, shape (n_samples, 1)\n",
    "          Estimated result kernel function\n",
    "\n",
    "        \"\"\"\n",
    "        if self.kernel == 'poly':\n",
    "          self.gamma = 1\n",
    "          self.theta = np.random.uniform(low=-1, high = 1, size=(1))\n",
    "          self.d = 2\n",
    "        \n",
    "        # We use the same format for both lienar and poly for easier interpretion\n",
    "        kernel = (self.gamma*np.dot(X1, X2.T) + self.theta)**self.d \n",
    "\n",
    "        return kernel"
   ]
  },
  {
   "cell_type": "code",
   "execution_count": 45,
   "id": "c291d0c2-4554-4a16-9345-24d315a345bd",
   "metadata": {},
   "outputs": [
    {
     "name": "stdout",
     "output_type": "stream",
     "text": [
      "Iteration 0\n",
      "Iteration 10\n",
      "Iteration 20\n",
      "Iteration 30\n",
      "Iteration 40\n",
      "Iteration 50\n",
      "Iteration 60\n",
      "Iteration 70\n",
      "Iteration 80\n",
      "Iteration 90\n"
     ]
    }
   ],
   "source": [
    "# Hyperparameters setting\n",
    "iter = 100\n",
    "lr = 0.01\n",
    "verbose = True\n",
    "\n",
    "scratch_svm_model = ScratchSVMClassifier(iter, lr, True)\n",
    "scratch_svm_model.fit(X_set1_train, y_set1_train)"
   ]
  },
  {
   "cell_type": "code",
   "execution_count": 47,
   "id": "2f5b3ce8-6c25-4e63-a4d0-1b4573b3440c",
   "metadata": {},
   "outputs": [
    {
     "name": "stdout",
     "output_type": "stream",
     "text": [
      "Accuracy score: 1.0\n",
      " Precision score: 1.0\n",
      " Recall score: 1.0\n",
      " F1 score: 1.0\n",
      " Confusion matrix: \n",
      "[[50  0]\n",
      " [ 0 50]]\n"
     ]
    }
   ],
   "source": [
    "from sklearn.metrics import precision_score, recall_score, f1_score, confusion_matrix\n",
    "\n",
    "\n",
    "# Use the predict for the predicted labels\n",
    "y_pred = scratch_svm_model.predict(X_set1_val)\n",
    "\n",
    "# Testing out the metrics\n",
    "acc_score = accuracy_score(y_set1_val, y_pred)\n",
    "prec_score = precision_score(y_set1_val, y_pred)\n",
    "rec_score = recall_score(y_set1_val, y_pred)\n",
    "f_score = f1_score(y_set1_val, y_pred)\n",
    "conf_matrix = confusion_matrix(y_set1_val, y_pred)\n",
    "print(\"Accuracy score: {}\\n Precision score: {}\\n Recall score: {}\\n F1 score: {}\\n Confusion matrix: \\n{}\".format(acc_score, prec_score, rec_score, f_score, conf_matrix))\n",
    "    "
   ]
  },
  {
   "cell_type": "code",
   "execution_count": 48,
   "id": "3f92d0ac-42b5-4cb4-ab68-ffb814211f04",
   "metadata": {},
   "outputs": [
    {
     "data": {
      "text/plain": [
       "<Axes: >"
      ]
     },
     "execution_count": 48,
     "metadata": {},
     "output_type": "execute_result"
    },
    {
     "data": {
      "image/png": "[encoded data removed]",
      "text/plain": [
       "<Figure size 640x480 with 1 Axes>"
      ]
     },
     "metadata": {},
     "output_type": "display_data"
    }
   ],
   "source": [
    "# Visualization of decision area\n",
    "from mlxtend.plotting import plot_decision_regions\n",
    "\n",
    "plot_decision_regions(X_set1_val, y_set1_val, clf=scratch_svm_model,legend=2)"
   ]
  },
  {
   "cell_type": "code",
   "execution_count": 49,
   "id": "8692f474-5427-40a6-9ba6-e1b1dc8081ea",
   "metadata": {},
   "outputs": [],
   "source": [
    "#Using decision region plotting scratch\n",
    "from matplotlib.colors import ListedColormap\n",
    "import matplotlib.patches as mpatches\n",
    "import numpy as np\n",
    "def decision_region(X, y, model, step=0.01, title='decision region', xlabel='xlabel', ylabel='ylabel', target_names=['versicolor', 'virginica']):\n",
    "    \"\"\"\n",
    "    Draw the determination area of the model that learned binary classification with two-dimensional features.\n",
    "    The background color is drawn from the estimated values of the trained model.\n",
    "    The points on the scatter plot are training or validation data.\n",
    "    Parameters\n",
    "    ----------------\n",
    "    X : ndarray, shape(n_samples, 2)\n",
    "        Feature value\n",
    "    y : ndarray, shape(n_samples,)\n",
    "        label\n",
    "    model : object\n",
    "        Insert the installed model of the learned model\n",
    "    step : float, (default : 0.1)\n",
    "        Set the interval to calculate the estimate\n",
    "    title : str\n",
    "        Give the text of the graph Title\n",
    "    xlabel, ylabel : str\n",
    "        Give the text of the axis label\n",
    "    target_names= : list of str\n",
    "        Give a list of legends\n",
    "    \"\"\"\n",
    "    # setting\n",
    "    scatter_color = ['tab:red', 'tab:blue']\n",
    "    contourf_color = ['darkred', 'skyblue']\n",
    "    n_class = 2\n",
    "    # pred\n",
    "    mesh_f0, mesh_f1  = np.meshgrid(np.arange(np.min(X[:,0])-0.5, np.max(X[:,0])+0.5, step), np.arange(np.min(X[:,1])-0.5, np.max(X[:,1])+0.5, step))\n",
    "    mesh = np.c_[np.ravel(mesh_f0),np.ravel(mesh_f1)]\n",
    "    y_pred = model.predict(mesh).reshape(mesh_f0.shape)\n",
    "    # plot\n",
    "    plt.title(title)\n",
    "    plt.xlabel(xlabel)\n",
    "    plt.ylabel(ylabel)\n",
    "    c = plt.contourf(mesh_f0, mesh_f1, y_pred, n_class-1, cmap=plt.cm.rainbow)\n",
    "    plt.contour(mesh_f0, mesh_f1, y_pred, n_class-1, colors='darkblue', linewidths=1.5, alpha=0.8)\n",
    "    plt.colorbar(c)\n",
    "    for i, target in enumerate(set(y)):\n",
    "        plt.scatter(X[y==target][:, 0], X[y==target][:, 1], s=30, cmap=plt.cm.coolwarm, label=target_names[i], marker='o', edgecolors='k')\n",
    "\n",
    "\n",
    "    patches = [mpatches.Patch(color=scatter_color[i], label=target_names[i]) for i in range(n_class)]\n",
    "    plt.scatter(model.X_sv[:,0], model.X_sv[:,1], color='yellow', s=30, label='support vector')\n",
    "    plt.legend(handles=patches)\n",
    "    plt.legend()\n",
    "    plt.show()"
   ]
  },
  {
   "cell_type": "code",
   "execution_count": 50,
   "id": "179f7af7-b739-4a02-8312-32479609c2c3",
   "metadata": {},
   "outputs": [
    {
     "name": "stderr",
     "output_type": "stream",
     "text": [
      "/tmp/ipykernel_300984/1304067639.py:43: UserWarning: No data for colormapping provided via 'c'. Parameters 'cmap' will be ignored\n",
      "  plt.scatter(X[y==target][:, 0], X[y==target][:, 1], s=30, cmap=plt.cm.coolwarm, label=target_names[i], marker='o', edgecolors='k')\n"
     ]
    },
    {
     "data": {
      "image/png": "[encoded data removed]",
      "text/plain": [
       "<Figure size 640x480 with 2 Axes>"
      ]
     },
     "metadata": {},
     "output_type": "display_data"
    }
   ],
   "source": [
    "decision_region(X_set1_val, y_set1_val, scratch_svm_model)"
   ]
  },
  {
   "cell_type": "code",
   "execution_count": null,
   "id": "8efee01c-8f93-4b3b-bb6f-c6d50c7ec54a",
   "metadata": {},
   "outputs": [],
   "source": [
    "# Polynomial Kernel (2D)\n",
    "Modeling"
   ]
  }
 ],
 "metadata": {
  "kernelspec": {
   "display_name": "Python 3 (ipykernel)",
   "language": "python",
   "name": "python3"
  },
  "language_info": {
   "codemirror_mode": {
    "name": "ipython",
    "version": 3
   },
   "file_extension": ".py",
   "mimetype": "text/x-python",
   "name": "python",
   "nbconvert_exporter": "python",
   "pygments_lexer": "ipython3",
   "version": "3.10.12"
  }
 },
 "nbformat": 4,
 "nbformat_minor": 5
}
